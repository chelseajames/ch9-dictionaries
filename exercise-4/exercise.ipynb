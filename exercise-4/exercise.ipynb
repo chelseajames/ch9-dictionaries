{
 "cells": [
  {
   "cell_type": "markdown",
   "metadata": {},
   "source": [
    "# Exercise 4\n",
    "Add the specified code for each code cell, running the cells _in order_. <small>(This exercise was adapted from [Erle Robotics S.L.](https://www.gitbook.com/@erlerobotics))</small>"
   ]
  },
  {
   "cell_type": "markdown",
   "metadata": {},
   "source": [
    "Create a _list_ **`students`** that contains dictionaries, each representing a student. A student has a `name`, as well as _lists_ of scores for each of `homework`, `quizzes`, and `tests`. Your dictionary should contain the following dictionaries for the following students:\n",
    "- Lloyd, who earned the following scores:\n",
    "    - Homework: 90, 97, 75, 92\n",
    "    - Quizzes: 88, 40, 94\n",
    "    - Exams: 75, 90\n",
    "- Alice, who earned the following scores:\n",
    "    - Homework: 100, 92, 98, 100\n",
    "    - Quizzes: 82, 83, 91\n",
    "    - Exams: 89, 97\n",
    "- Tyler, who earned the following scores:\n",
    "    - Homework: 0, 87, 75, 22\n",
    "    - Quizzes: 0, 75, 78\n",
    "    - Exams: 100, 100\n",
    "\n",
    "Print out the list after you create it."
   ]
  },
  {
   "cell_type": "code",
   "execution_count": 1,
   "metadata": {},
   "outputs": [
    {
     "name": "stdout",
     "output_type": "stream",
     "text": [
      "[{'name': 'Lloyd', 'homework': [90, 97, 75, 92], 'quizzes': [88, 40, 94], 'exams': [75, 90]}, {'name': 'Alice', 'homework': [100, 92, 98, 100], 'quizzes': [82, 83, 91], 'exams': [89, 97]}, {'name': 'Tyler', 'homework': [0, 87, 75, 22], 'quizzes': [0, 75, 78], 'exams': [100, 100]}]\n"
     ]
    }
   ],
   "source": [
    "students = [{'name':'Lloyd', 'homework':[90, 97, 75, 92], 'quizzes':[88, 40, 94], 'exams':[75, 90]},\n",
    "           {'name':'Alice', 'homework':[100, 92, 98, 100], 'quizzes':[82, 83, 91], 'exams':[89, 97]},\n",
    "           {'name':'Tyler', 'homework':[0, 87, 75, 22], 'quizzes':[0, 75, 78], 'exams':[100, 100]}]\n",
    "print(students)"
   ]
  },
  {
   "cell_type": "markdown",
   "metadata": {},
   "source": [
    "Define a function **`weighted_average()`** that takes in a dictionary representing a student (as above), as well as 3 values between 0 and 1 representing the amount of weight that each of homework (default 40%), quizzes (default 40%), and tests (default 20%) receive in determing the final grade. The function should then calculate and return the overall score (between 0 and 100) based on these weights.\n",
    "- Hint: use the `sum()` function to easily sum up the scores for each category."
   ]
  },
  {
   "cell_type": "code",
   "execution_count": 3,
   "metadata": {},
   "outputs": [],
   "source": [
    "def weighted_average(student, homework_weight=.40, quiz_weight=.40, test_weight=.20):\n",
    "    \"\"\"Accepts a student dictionary and 3 values between 0 and 1 representing weights of homework, quizzes, and tests.\n",
    "    Calculates and returns overall score based on weights.\"\"\"\n",
    "    h_score = sum(student['homework'])/len(student['homework'])*homework_weight\n",
    "    q_score = sum(student['quizzes'])/len(student['quizzes'])*quiz_weight\n",
    "    t_score = sum(student['exams'])/len(student['exams'])*test_weight\n",
    "    score = round((h_score + q_score + t_score), 2)\n",
    "    return score\n",
    "    "
   ]
  },
  {
   "cell_type": "markdown",
   "metadata": {},
   "source": [
    "Create a variable **`anonymous_scores`** that is a list of the average scores of all the students in the class. Homework gets 10% weight, quizzes get 30% weight, and exams get 60% weight (it's not a well-designed course). Output the variable once done."
   ]
  },
  {
   "cell_type": "code",
   "execution_count": 4,
   "metadata": {},
   "outputs": [
    {
     "name": "stdout",
     "output_type": "stream",
     "text": [
      "[80.55, 91.15, 79.9]\n"
     ]
    }
   ],
   "source": [
    "anonymous_scores = []\n",
    "for student in students:\n",
    "    anonymous_scores.append(weighted_average(student, .10, .30, .60))\n",
    "print(anonymous_scores)"
   ]
  },
  {
   "cell_type": "markdown",
   "metadata": {},
   "source": [
    "Define a function **`get_letter_grade()`** that takes in a score and returns a \"letter grade\" associated with that score based on the following criteria:\n",
    "- 90-100 is an A\n",
    "- 80-90 is a B\n",
    "- 70-80 is a C\n",
    "- 60-70 is a D\n",
    "- 0-60 is an F"
   ]
  },
  {
   "cell_type": "code",
   "execution_count": 5,
   "metadata": {},
   "outputs": [],
   "source": [
    "def get_letter_grade(score):\n",
    "    \"\"\"Accepts score (float) between 0 and 100 and returns letter grade (string).\"\"\"\n",
    "    if 100 >= score >= 90:\n",
    "        grade = \"A\"\n",
    "    elif 90 > score >= 80:\n",
    "        grade = \"B\"\n",
    "    elif 80 > score >= 70:\n",
    "        grade = \"C\"\n",
    "    elif 70 > score >= 60:\n",
    "        grade = \"D\"\n",
    "    elif 60 > score >= 0:\n",
    "        grade = \"F\"\n",
    "    else:\n",
    "        grade = \"Score outside of accepted range.\"\n",
    "    return grade"
   ]
  },
  {
   "cell_type": "markdown",
   "metadata": {},
   "source": [
    "Assign a new key `grade` to each student in the `students` list that is the final letter grade for their work (using the same weights as you used for the anonymous scores)."
   ]
  },
  {
   "cell_type": "code",
   "execution_count": 6,
   "metadata": {},
   "outputs": [
    {
     "name": "stdout",
     "output_type": "stream",
     "text": [
      "[{'name': 'Lloyd', 'homework': [90, 97, 75, 92], 'quizzes': [88, 40, 94], 'exams': [75, 90], 'grade': 'B'}, {'name': 'Alice', 'homework': [100, 92, 98, 100], 'quizzes': [82, 83, 91], 'exams': [89, 97], 'grade': 'A'}, {'name': 'Tyler', 'homework': [0, 87, 75, 22], 'quizzes': [0, 75, 78], 'exams': [100, 100], 'grade': 'C'}]\n"
     ]
    }
   ],
   "source": [
    "for student in students:\n",
    "    score = weighted_average(student, .10, .30, .60)\n",
    "    student['grade'] = get_letter_grade(score)\n",
    "    \n",
    "print(students)"
   ]
  },
  {
   "cell_type": "markdown",
   "metadata": {},
   "source": [
    "Print the class's average letter grade."
   ]
  },
  {
   "cell_type": "code",
   "execution_count": 14,
   "metadata": {},
   "outputs": [
    {
     "name": "stdout",
     "output_type": "stream",
     "text": [
      "B\n"
     ]
    }
   ],
   "source": [
    "class_score = (weighted_average(students[0], .10, .30, .60) + weighted_average(students[1], .10, .30, .60) + weighted_average(students[2], .10, .30, .60))/3\n",
    "class_score = round(class_score, 2)\n",
    "class_grade = get_letter_grade(class_score)\n",
    "print(class_grade)"
   ]
  },
  {
   "cell_type": "code",
   "execution_count": null,
   "metadata": {},
   "outputs": [],
   "source": []
  }
 ],
 "metadata": {
  "kernelspec": {
   "display_name": "Python 3",
   "language": "python",
   "name": "python3"
  },
  "language_info": {
   "codemirror_mode": {
    "name": "ipython",
    "version": 3
   },
   "file_extension": ".py",
   "mimetype": "text/x-python",
   "name": "python",
   "nbconvert_exporter": "python",
   "pygments_lexer": "ipython3",
   "version": "3.7.1"
  },
  "toc": {
   "colors": {
    "hover_highlight": "#DAA520",
    "running_highlight": "#FF0000",
    "selected_highlight": "#FFD700"
   },
   "moveMenuLeft": true,
   "nav_menu": {
    "height": "30px",
    "width": "252px"
   },
   "navigate_menu": true,
   "number_sections": true,
   "sideBar": true,
   "threshold": 4,
   "toc_cell": false,
   "toc_section_display": "block",
   "toc_window_display": false,
   "widenNotebook": false
  }
 },
 "nbformat": 4,
 "nbformat_minor": 2
}
